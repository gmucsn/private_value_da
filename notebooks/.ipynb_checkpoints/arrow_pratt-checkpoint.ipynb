{
 "cells": [
  {
   "cell_type": "markdown",
   "id": "88ceadea",
   "metadata": {},
   "source": [
    "#  Arrow–Pratt measure of absolute risk aversion (ARA)\n",
    "\n",
    "Notes on risk aversion.  Reference [here](https://en.wikipedia.org/wiki/Risk_aversion)"
   ]
  },
  {
   "cell_type": "code",
   "execution_count": 13,
   "id": "cffd1395",
   "metadata": {},
   "outputs": [],
   "source": [
    "import sympy as sy"
   ]
  },
  {
   "cell_type": "code",
   "execution_count": 19,
   "id": "dfd48062",
   "metadata": {},
   "outputs": [
    {
     "name": "stdout",
     "output_type": "stream",
     "text": [
      "a + b⋅log(m)\n",
      "derivative of a + b*log(m) = b/m\n",
      "derivative of b/m = -b/m**2\n",
      "A(m) = 1/m\n"
     ]
    }
   ],
   "source": [
    "a = sy.Symbol('a')\n",
    "b = sy.Symbol('b')\n",
    "m = sy.Symbol('m')\n",
    "utility = a + b*sy.ln(m)\n",
    "sy.pprint(utility)\n",
    "dutility = utility.diff(m)\n",
    "sy.pprint(f\"derivative of {utility} = {dutility}\")\n",
    "ddutility = dutility.diff(m)\n",
    "sy.pprint(f\"derivative of {dutility} = {ddutility}\")\n",
    "a = -ddutility/dutility\n",
    "sy.pprint(f\"A(m) = {a}\")"
   ]
  },
  {
   "cell_type": "code",
   "execution_count": 18,
   "id": "4e375b63",
   "metadata": {},
   "outputs": [
    {
     "name": "stdout",
     "output_type": "stream",
     "text": [
      "     -m⋅r\n",
      "1 - ℯ    \n",
      "derivative of 1 - exp(-m*r) = r*exp(-m*r)\n",
      "derivative of r*exp(-m*r) = -r**2*exp(-m*r)\n",
      "A(m) = r\n"
     ]
    }
   ],
   "source": [
    "# Constant absoulute risk aversion\n",
    "r = sy.Symbol('r')\n",
    "utility = 1 - sy.exp(-r*m)\n",
    "sy.pprint(utility)\n",
    "dutility = utility.diff(m)\n",
    "sy.pprint(f\"derivative of {utility} = {dutility}\")\n",
    "ddutility = dutility.diff(m)\n",
    "sy.pprint(f\"derivative of {dutility} = {ddutility}\")\n",
    "a = -ddutility/dutility\n",
    "sy.pprint(f\"A(m) = {a}\")"
   ]
  },
  {
   "cell_type": "code",
   "execution_count": null,
   "id": "1fb5be86",
   "metadata": {},
   "outputs": [],
   "source": []
  }
 ],
 "metadata": {
  "kernelspec": {
   "display_name": "Python 3 (ipykernel)",
   "language": "python",
   "name": "python3"
  },
  "language_info": {
   "codemirror_mode": {
    "name": "ipython",
    "version": 3
   },
   "file_extension": ".py",
   "mimetype": "text/x-python",
   "name": "python",
   "nbconvert_exporter": "python",
   "pygments_lexer": "ipython3",
   "version": "3.7.9"
  },
  "toc": {
   "base_numbering": 1,
   "nav_menu": {},
   "number_sections": true,
   "sideBar": true,
   "skip_h1_title": false,
   "title_cell": "Table of Contents",
   "title_sidebar": "Contents",
   "toc_cell": false,
   "toc_position": {},
   "toc_section_display": true,
   "toc_window_display": false
  }
 },
 "nbformat": 4,
 "nbformat_minor": 5
}
